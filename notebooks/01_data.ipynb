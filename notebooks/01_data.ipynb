{
 "cells": [
  {
   "attachments": {},
   "cell_type": "markdown",
   "metadata": {},
   "source": [
    "# Libraries"
   ]
  },
  {
   "cell_type": "code",
   "execution_count": 1,
   "metadata": {},
   "outputs": [],
   "source": [
    "import pandas as pd\n"
   ]
  },
  {
   "attachments": {},
   "cell_type": "markdown",
   "metadata": {},
   "source": [
    "# Utility Functions"
   ]
  },
  {
   "cell_type": "code",
   "execution_count": 2,
   "metadata": {},
   "outputs": [],
   "source": [
    "def read_session_file(filename):\n",
    "    return pd.read_csv(filename, index_col=\"session_id\", dtype={\"item_id\": str, \"session_id\": str}, parse_dates=[\"date\"])\\\n",
    "        .sort_values(by=['session_id', 'date'], ascending=[True, True])\n",
    "\n",
    "\n",
    "def read_purchases_file(filename):\n",
    "    return pd.read_csv(filename, index_col=\"session_id\", dtype={\"item_id\": str, \"session_id\": str}, parse_dates=[\"date\"])\\\n",
    "        .drop(\"date\", axis=1)\\\n",
    "        .rename({\"item_id\": \"item_purchase\"}, axis=1)\n",
    "\n",
    "\n",
    "def read_candidate_items_file(filename):\n",
    "    return pd.read_csv(filename, dtype=str)\n",
    "\n",
    "\n",
    "def build_view_history(session_df):\n",
    "    return session_df\\\n",
    "        .groupby(\"session_id\")\\\n",
    "        .agg({\"item_id\": lambda x: x.to_list()})\\\n",
    "        .rename({\"item_id\": \"item_views\"}, axis=1)\n",
    "\n",
    "\n",
    "def build_itemid_docid_lookup(item_ids):\n",
    "\n",
    "    doc_ids = pd.array(range(len(item_ids)))\n",
    "\n",
    "    df = pd.DataFrame({\n",
    "        \"item_id\": item_ids,\n",
    "        \"doc_id\": doc_ids\n",
    "    })\n",
    "\n",
    "    return df\n"
   ]
  },
  {
   "attachments": {},
   "cell_type": "markdown",
   "metadata": {},
   "source": [
    "# Data"
   ]
  },
  {
   "attachments": {},
   "cell_type": "markdown",
   "metadata": {},
   "source": [
    "Read the given files:"
   ]
  },
  {
   "cell_type": "code",
   "execution_count": 3,
   "metadata": {},
   "outputs": [],
   "source": [
    "CANDIDATE_ITEMS = \"/workspaces/recsys2022-weaviate/dressipi_recsys2022_dataset/candidate_items.csv\"\n",
    "\n",
    "TRAIN_SESSION = \"/workspaces/recsys2022-weaviate/dressipi_recsys2022_dataset/train_sessions.csv\"\n",
    "TRAIN_PURCHASES = \"/workspaces/recsys2022-weaviate/dressipi_recsys2022_dataset/train_purchases.csv\"\n"
   ]
  },
  {
   "cell_type": "code",
   "execution_count": 4,
   "metadata": {},
   "outputs": [],
   "source": [
    "df_candidate_items = read_candidate_items_file(CANDIDATE_ITEMS)\n"
   ]
  },
  {
   "cell_type": "code",
   "execution_count": 5,
   "metadata": {},
   "outputs": [],
   "source": [
    "df_session = read_session_file(TRAIN_SESSION)\n",
    "df_purchases = read_purchases_file(TRAIN_PURCHASES)\n",
    "df_view_hist = build_view_history(df_session)\n"
   ]
  },
  {
   "attachments": {},
   "cell_type": "markdown",
   "metadata": {},
   "source": [
    "# Dataset Split"
   ]
  },
  {
   "attachments": {},
   "cell_type": "markdown",
   "metadata": {},
   "source": [
    "## Training Set"
   ]
  },
  {
   "cell_type": "code",
   "execution_count": 6,
   "metadata": {},
   "outputs": [
    {
     "data": {
      "text/html": [
       "<div>\n",
       "<style scoped>\n",
       "    .dataframe tbody tr th:only-of-type {\n",
       "        vertical-align: middle;\n",
       "    }\n",
       "\n",
       "    .dataframe tbody tr th {\n",
       "        vertical-align: top;\n",
       "    }\n",
       "\n",
       "    .dataframe thead th {\n",
       "        text-align: right;\n",
       "    }\n",
       "</style>\n",
       "<table border=\"1\" class=\"dataframe\">\n",
       "  <thead>\n",
       "    <tr style=\"text-align: right;\">\n",
       "      <th></th>\n",
       "      <th>item_views</th>\n",
       "      <th>item_purchase</th>\n",
       "    </tr>\n",
       "    <tr>\n",
       "      <th>session_id</th>\n",
       "      <th></th>\n",
       "      <th></th>\n",
       "    </tr>\n",
       "  </thead>\n",
       "  <tbody>\n",
       "    <tr>\n",
       "      <th>1000004</th>\n",
       "      <td>[26396, 5288, 3298]</td>\n",
       "      <td>18834</td>\n",
       "    </tr>\n",
       "    <tr>\n",
       "      <th>1000008</th>\n",
       "      <td>[15533, 15533, 15533]</td>\n",
       "      <td>17641</td>\n",
       "    </tr>\n",
       "    <tr>\n",
       "      <th>1000016</th>\n",
       "      <td>[2972, 2972, 2972, 2972, 2972, 3402]</td>\n",
       "      <td>22794</td>\n",
       "    </tr>\n",
       "    <tr>\n",
       "      <th>1000019</th>\n",
       "      <td>[4872]</td>\n",
       "      <td>26711</td>\n",
       "    </tr>\n",
       "    <tr>\n",
       "      <th>1000024</th>\n",
       "      <td>[9238, 25745]</td>\n",
       "      <td>9362</td>\n",
       "    </tr>\n",
       "  </tbody>\n",
       "</table>\n",
       "</div>"
      ],
      "text/plain": [
       "                                      item_views item_purchase\n",
       "session_id                                                    \n",
       "1000004                      [26396, 5288, 3298]         18834\n",
       "1000008                    [15533, 15533, 15533]         17641\n",
       "1000016     [2972, 2972, 2972, 2972, 2972, 3402]         22794\n",
       "1000019                                   [4872]         26711\n",
       "1000024                            [9238, 25745]          9362"
      ]
     },
     "execution_count": 6,
     "metadata": {},
     "output_type": "execute_result"
    }
   ],
   "source": [
    "train_df = df_view_hist.join(df_purchases, on=\"session_id\", how=\"inner\")\n",
    "train_df.head(5)\n"
   ]
  },
  {
   "attachments": {},
   "cell_type": "markdown",
   "metadata": {},
   "source": [
    "## Validation Set"
   ]
  },
  {
   "cell_type": "code",
   "execution_count": 7,
   "metadata": {},
   "outputs": [
    {
     "data": {
      "text/html": [
       "<div>\n",
       "<style scoped>\n",
       "    .dataframe tbody tr th:only-of-type {\n",
       "        vertical-align: middle;\n",
       "    }\n",
       "\n",
       "    .dataframe tbody tr th {\n",
       "        vertical-align: top;\n",
       "    }\n",
       "\n",
       "    .dataframe thead th {\n",
       "        text-align: right;\n",
       "    }\n",
       "</style>\n",
       "<table border=\"1\" class=\"dataframe\">\n",
       "  <thead>\n",
       "    <tr style=\"text-align: right;\">\n",
       "      <th></th>\n",
       "      <th>item_views</th>\n",
       "      <th>item_purchase</th>\n",
       "    </tr>\n",
       "    <tr>\n",
       "      <th>session_id</th>\n",
       "      <th></th>\n",
       "      <th></th>\n",
       "    </tr>\n",
       "  </thead>\n",
       "  <tbody>\n",
       "    <tr>\n",
       "      <th>100021</th>\n",
       "      <td>[9219, 7926, 21719, 26785]</td>\n",
       "      <td>14306</td>\n",
       "    </tr>\n",
       "    <tr>\n",
       "      <th>1000328</th>\n",
       "      <td>[1152, 9201, 20536]</td>\n",
       "      <td>18511</td>\n",
       "    </tr>\n",
       "    <tr>\n",
       "      <th>1000433</th>\n",
       "      <td>[16922, 14881, 15861, 14881, 7963]</td>\n",
       "      <td>2794</td>\n",
       "    </tr>\n",
       "    <tr>\n",
       "      <th>100050</th>\n",
       "      <td>[4314]</td>\n",
       "      <td>13966</td>\n",
       "    </tr>\n",
       "    <tr>\n",
       "      <th>100053</th>\n",
       "      <td>[2891]</td>\n",
       "      <td>25278</td>\n",
       "    </tr>\n",
       "  </tbody>\n",
       "</table>\n",
       "</div>"
      ],
      "text/plain": [
       "                                    item_views item_purchase\n",
       "session_id                                                  \n",
       "100021              [9219, 7926, 21719, 26785]         14306\n",
       "1000328                    [1152, 9201, 20536]         18511\n",
       "1000433     [16922, 14881, 15861, 14881, 7963]          2794\n",
       "100050                                  [4314]         13966\n",
       "100053                                  [2891]         25278"
      ]
     },
     "execution_count": 7,
     "metadata": {},
     "output_type": "execute_result"
    }
   ],
   "source": [
    "VALID_SESSION = \"/workspaces/recsys2022-weaviate/dressipi_recsys2022_dataset/test_leaderboard_sessions.csv\"\n",
    "VALID_PURCHASES = \"/workspaces/recsys2022-weaviate/dressipi_recsys2022_dataset/test_leaderboard_purchases.csv\"\n",
    "\n",
    "df_session = read_session_file(VALID_SESSION)\n",
    "df_purchases = read_purchases_file(VALID_PURCHASES)\n",
    "df_view_hist = build_view_history(df_session)\n",
    "\n",
    "valid_df = df_view_hist.join(df_purchases, on=\"session_id\", how=\"inner\")\n",
    "valid_df.head(5)\n"
   ]
  },
  {
   "attachments": {},
   "cell_type": "markdown",
   "metadata": {},
   "source": [
    "## Test Set"
   ]
  },
  {
   "cell_type": "code",
   "execution_count": 8,
   "metadata": {},
   "outputs": [
    {
     "data": {
      "text/html": [
       "<div>\n",
       "<style scoped>\n",
       "    .dataframe tbody tr th:only-of-type {\n",
       "        vertical-align: middle;\n",
       "    }\n",
       "\n",
       "    .dataframe tbody tr th {\n",
       "        vertical-align: top;\n",
       "    }\n",
       "\n",
       "    .dataframe thead th {\n",
       "        text-align: right;\n",
       "    }\n",
       "</style>\n",
       "<table border=\"1\" class=\"dataframe\">\n",
       "  <thead>\n",
       "    <tr style=\"text-align: right;\">\n",
       "      <th></th>\n",
       "      <th>item_views</th>\n",
       "      <th>item_purchase</th>\n",
       "    </tr>\n",
       "    <tr>\n",
       "      <th>session_id</th>\n",
       "      <th></th>\n",
       "      <th></th>\n",
       "    </tr>\n",
       "  </thead>\n",
       "  <tbody>\n",
       "    <tr>\n",
       "      <th>1000025</th>\n",
       "      <td>[15216, 15216, 8060, 27442, 13914]</td>\n",
       "      <td>20629</td>\n",
       "    </tr>\n",
       "    <tr>\n",
       "      <th>1000039</th>\n",
       "      <td>[14932, 17014]</td>\n",
       "      <td>15842</td>\n",
       "    </tr>\n",
       "    <tr>\n",
       "      <th>1000134</th>\n",
       "      <td>[8291, 16412, 19765]</td>\n",
       "      <td>3825</td>\n",
       "    </tr>\n",
       "    <tr>\n",
       "      <th>1000150</th>\n",
       "      <td>[9522, 1669]</td>\n",
       "      <td>18723</td>\n",
       "    </tr>\n",
       "    <tr>\n",
       "      <th>1000174</th>\n",
       "      <td>[12508, 17740, 5199, 20260, 12014, 15550, 1774...</td>\n",
       "      <td>10410</td>\n",
       "    </tr>\n",
       "  </tbody>\n",
       "</table>\n",
       "</div>"
      ],
      "text/plain": [
       "                                                   item_views item_purchase\n",
       "session_id                                                                 \n",
       "1000025                    [15216, 15216, 8060, 27442, 13914]         20629\n",
       "1000039                                        [14932, 17014]         15842\n",
       "1000134                                  [8291, 16412, 19765]          3825\n",
       "1000150                                          [9522, 1669]         18723\n",
       "1000174     [12508, 17740, 5199, 20260, 12014, 15550, 1774...         10410"
      ]
     },
     "execution_count": 8,
     "metadata": {},
     "output_type": "execute_result"
    }
   ],
   "source": [
    "TEST_SESSION = \"/workspaces/recsys2022-weaviate/dressipi_recsys2022_dataset/test_final_sessions.csv\"\n",
    "TEST_PURCHASES = \"/workspaces/recsys2022-weaviate/dressipi_recsys2022_dataset/test_final_purchases.csv\"\n",
    "\n",
    "df_session = read_session_file(TEST_SESSION)\n",
    "df_purchases = read_purchases_file(TEST_PURCHASES)\n",
    "df_view_hist = build_view_history(df_session)\n",
    "\n",
    "test_df = df_view_hist.join(df_purchases, on=\"session_id\", how=\"inner\")\n",
    "test_df.head(5)\n"
   ]
  },
  {
   "attachments": {},
   "cell_type": "markdown",
   "metadata": {},
   "source": [
    "## Document ID"
   ]
  },
  {
   "cell_type": "markdown",
   "metadata": {},
   "source": [
    "Let `item_purchase` be the document id and `item_views` the \"text\" in the document:"
   ]
  },
  {
   "cell_type": "code",
   "execution_count": 9,
   "metadata": {},
   "outputs": [
    {
     "data": {
      "text/html": [
       "<div>\n",
       "<style scoped>\n",
       "    .dataframe tbody tr th:only-of-type {\n",
       "        vertical-align: middle;\n",
       "    }\n",
       "\n",
       "    .dataframe tbody tr th {\n",
       "        vertical-align: top;\n",
       "    }\n",
       "\n",
       "    .dataframe thead th {\n",
       "        text-align: right;\n",
       "    }\n",
       "</style>\n",
       "<table border=\"1\" class=\"dataframe\">\n",
       "  <thead>\n",
       "    <tr style=\"text-align: right;\">\n",
       "      <th></th>\n",
       "      <th>item_id</th>\n",
       "      <th>doc_id</th>\n",
       "    </tr>\n",
       "  </thead>\n",
       "  <tbody>\n",
       "    <tr>\n",
       "      <th>0</th>\n",
       "      <td>4</td>\n",
       "      <td>0</td>\n",
       "    </tr>\n",
       "    <tr>\n",
       "      <th>1</th>\n",
       "      <td>8</td>\n",
       "      <td>1</td>\n",
       "    </tr>\n",
       "    <tr>\n",
       "      <th>2</th>\n",
       "      <td>9</td>\n",
       "      <td>2</td>\n",
       "    </tr>\n",
       "    <tr>\n",
       "      <th>3</th>\n",
       "      <td>19</td>\n",
       "      <td>3</td>\n",
       "    </tr>\n",
       "    <tr>\n",
       "      <th>4</th>\n",
       "      <td>20</td>\n",
       "      <td>4</td>\n",
       "    </tr>\n",
       "  </tbody>\n",
       "</table>\n",
       "</div>"
      ],
      "text/plain": [
       "  item_id  doc_id\n",
       "0       4       0\n",
       "1       8       1\n",
       "2       9       2\n",
       "3      19       3\n",
       "4      20       4"
      ]
     },
     "execution_count": 9,
     "metadata": {},
     "output_type": "execute_result"
    }
   ],
   "source": [
    "item_ids = pd.concat([df_candidate_items[\"item_id\"],\n",
    "                     train_df[\"item_purchase\"]]).unique()\n",
    "\n",
    "itemid_docid_lookup = build_itemid_docid_lookup(item_ids)\n",
    "itemid_docid_lookup.head()\n"
   ]
  },
  {
   "attachments": {},
   "cell_type": "markdown",
   "metadata": {},
   "source": [
    "# Save Dataset Splits"
   ]
  },
  {
   "cell_type": "code",
   "execution_count": 10,
   "metadata": {},
   "outputs": [],
   "source": [
    "train_df.to_parquet(\"train_df.parquet\", index=True)\n",
    "valid_df.to_parquet(\"valid_df.parquet\", index=True)\n",
    "test_df.to_parquet(\"test_df.parquet\", index=True)\n",
    "\n",
    "itemid_docid_lookup.to_parquet(\"itemid_docid_lookup.parquet\", index=True)\n"
   ]
  }
 ],
 "metadata": {
  "kernelspec": {
   "display_name": "Python 3",
   "language": "python",
   "name": "python3"
  },
  "language_info": {
   "codemirror_mode": {
    "name": "ipython",
    "version": 3
   },
   "file_extension": ".py",
   "mimetype": "text/x-python",
   "name": "python",
   "nbconvert_exporter": "python",
   "pygments_lexer": "ipython3",
   "version": "3.10.9"
  },
  "orig_nbformat": 4,
  "vscode": {
   "interpreter": {
    "hash": "949777d72b0d2535278d3dc13498b2535136f6dfe0678499012e853ee9abcab1"
   }
  }
 },
 "nbformat": 4,
 "nbformat_minor": 2
}
